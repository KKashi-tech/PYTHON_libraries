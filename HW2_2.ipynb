{
 "cells": [
  {
   "cell_type": "markdown",
   "id": "29b02247",
   "metadata": {},
   "source": [
    "#  Повторение материала\n",
    "\n",
    "1. Создать одномерный массив Numpy под названием a из 12 последовательных целых чисел чисел от 12 до 24 невключительно"
   ]
  },
  {
   "cell_type": "code",
   "execution_count": 1,
   "id": "a60d5bd1",
   "metadata": {},
   "outputs": [],
   "source": [
    "import numpy as np"
   ]
  },
  {
   "cell_type": "code",
   "execution_count": 2,
   "id": "68dccaf6",
   "metadata": {},
   "outputs": [
    {
     "name": "stdout",
     "output_type": "stream",
     "text": [
      "[12. 13. 14. 15. 16. 17. 18. 19. 20. 21. 22. 23.]\n"
     ]
    }
   ],
   "source": [
    "print(a := np.linspace(12, 24, 12, endpoint=False))"
   ]
  },
  {
   "cell_type": "markdown",
   "id": "129a4a7b",
   "metadata": {},
   "source": [
    "2. Создать 5 двумерных массивов разной формы из массива a. Не использовать в аргументах метода reshape число -1."
   ]
  },
  {
   "cell_type": "code",
   "execution_count": 3,
   "id": "5977bc49",
   "metadata": {},
   "outputs": [],
   "source": [
    "a = a.reshape(6, 2)\n",
    "b = a.reshape(3, 4)\n",
    "c = a.reshape(12, 1)\n",
    "d = a.reshape(1, 12)\n",
    "e = a.reshape(2, 6)"
   ]
  },
  {
   "cell_type": "markdown",
   "id": "30f7ad20",
   "metadata": {},
   "source": [
    "3. Создать 5 двумерных массивов разной формы из массива a. Использовать в аргументах метода reshape число -1 (в трех примерах - для обозначения числа столбцов, в двух - для строк)."
   ]
  },
  {
   "cell_type": "code",
   "execution_count": 4,
   "id": "528a8c6c",
   "metadata": {},
   "outputs": [
    {
     "name": "stdout",
     "output_type": "stream",
     "text": [
      "[[12. 13.]\n",
      " [14. 15.]\n",
      " [16. 17.]\n",
      " [18. 19.]\n",
      " [20. 21.]\n",
      " [22. 23.]]\n",
      "[[12. 13. 14. 15.]\n",
      " [16. 17. 18. 19.]\n",
      " [20. 21. 22. 23.]]\n",
      "[[12.]\n",
      " [13.]\n",
      " [14.]\n",
      " [15.]\n",
      " [16.]\n",
      " [17.]\n",
      " [18.]\n",
      " [19.]\n",
      " [20.]\n",
      " [21.]\n",
      " [22.]\n",
      " [23.]]\n",
      "[[12. 13. 14. 15. 16. 17. 18. 19. 20. 21. 22. 23.]]\n",
      "[[12. 13. 14. 15. 16. 17.]\n",
      " [18. 19. 20. 21. 22. 23.]]\n"
     ]
    }
   ],
   "source": [
    "print(a:= a.reshape(6, -1))\n",
    "print(b:= a.reshape(-1, 4))\n",
    "print(c:= a.reshape(12, -1))\n",
    "print(d:= a.reshape(-1, 12))\n",
    "print(e:= a.reshape(2, -1))"
   ]
  },
  {
   "cell_type": "markdown",
   "id": "98adb11d",
   "metadata": {},
   "source": [
    "4. Можно ли массив Numpy, состоящий из одного столбца и 12 строк, назвать одномерным?"
   ]
  },
  {
   "cell_type": "markdown",
   "id": "7b5eee72",
   "metadata": {},
   "source": [
    "Ответ: Нет, т.к. одномерный массив состоит из 1 строки."
   ]
  },
  {
   "cell_type": "markdown",
   "id": "2a9cff7c",
   "metadata": {},
   "source": [
    "5. Создать массив из 3 строк и 4 столбцов, состоящий из случайных чисел с плавающей запятой из нормального распределения со средним, равным 0 и среднеквадратичным отклонением, равным 1.0. Получить из этого массива одномерный массив с таким же атрибутом size, как и исходный массив.\n"
   ]
  },
  {
   "cell_type": "code",
   "execution_count": 58,
   "id": "acefbf00",
   "metadata": {},
   "outputs": [
    {
     "name": "stdout",
     "output_type": "stream",
     "text": [
      "Двумерно: \n",
      "[[-0.75981627 -2.80454239 -0.12636276  0.26772426]\n",
      " [ 2.22857088  0.8635829   0.0841352   0.40549193]\n",
      " [ 0.42916012  0.46589708 -0.27453189  1.58499016]]\n",
      "\n",
      "Одномерно: \n",
      "[-0.75981627 -2.80454239 -0.12636276  0.26772426  2.22857088  0.8635829\n",
      "  0.0841352   0.40549193  0.42916012  0.46589708 -0.27453189  1.58499016]\n",
      "\n"
     ]
    }
   ],
   "source": [
    "print('Двумерно: \\n{}\\n'.format(m1 := np.random.randn(3, 4)))\n",
    "print('Одномерно: \\n{}\\n'.format(m2 :=  m1.flatten()))"
   ]
  },
  {
   "cell_type": "markdown",
   "id": "c66b4c38",
   "metadata": {},
   "source": [
    "6. Создать массив a, состоящий из целых чисел, убывающих от 20 до 0 невключительно с интервалом 2."
   ]
  },
  {
   "cell_type": "code",
   "execution_count": 6,
   "id": "c5c5f7b9",
   "metadata": {},
   "outputs": [
    {
     "name": "stdout",
     "output_type": "stream",
     "text": [
      "[20 18 16 14 12 10  8  6  4  2]\n"
     ]
    }
   ],
   "source": [
    "print(a := np.arange(20, 0, -2))"
   ]
  },
  {
   "cell_type": "markdown",
   "id": "70d725f5",
   "metadata": {},
   "source": [
    "7. Создать массив b, состоящий из 1 строки и 10 столбцов: целых чисел, убывающих от 20 до 1 невключительно с интервалом 2. В чем разница между массивами a и b?"
   ]
  },
  {
   "cell_type": "code",
   "execution_count": 7,
   "id": "a65e096a",
   "metadata": {},
   "outputs": [
    {
     "name": "stdout",
     "output_type": "stream",
     "text": [
      "Це будет двумерный массив, а а был одномерный: [[20 18 16 14 12 10  8  6  4  2]]\n"
     ]
    }
   ],
   "source": [
    "print('Це будет двумерный массив, а а был одномерный: {}'.format(b := np.arange(20, 1, -2).reshape(1, 10)))"
   ]
  },
  {
   "cell_type": "markdown",
   "id": "c1e795fe",
   "metadata": {},
   "source": [
    "8. Вертикально соединить массивы a и b. a - двумерный массив из нулей, число строк которого больше 1 и на 1 меньше, чем число строк двумерного массива b, состоящего из единиц. Итоговый массив v должен иметь атрибут size, равный 10."
   ]
  },
  {
   "cell_type": "code",
   "execution_count": 20,
   "id": "4f449a66",
   "metadata": {},
   "outputs": [
    {
     "name": "stdout",
     "output_type": "stream",
     "text": [
      "10\n"
     ]
    }
   ],
   "source": [
    "a = np.zeros((3, 2))\n",
    "b = np.ones((2, 2))\n",
    "\n",
    "print(c := np.vstack((a, b)).size)"
   ]
  },
  {
   "cell_type": "markdown",
   "id": "2b68b478",
   "metadata": {},
   "source": [
    "9. Создать одномерный массив а, состоящий из последовательности целых чисел от 0 до 12. Поменять форму этого массива, чтобы получилась матрица A (двумерный массив Numpy), состоящая из 4 строк и 3 столбцов. Получить матрицу At путем транспонирования матрицы A. Получить матрицу B, умножив матрицу A на матрицу At с помощью матричного умножения. Какой размер имеет матрица B? Получится ли вычислить обратную матрицу для матрицы B и почему?\n"
   ]
  },
  {
   "cell_type": "code",
   "execution_count": 76,
   "id": "7f2c1d79",
   "metadata": {},
   "outputs": [
    {
     "name": "stdout",
     "output_type": "stream",
     "text": [
      "Исходное: \n",
      "[[ 0  1  2]\n",
      " [ 3  4  5]\n",
      " [ 6  7  8]\n",
      " [ 9 10 11]]\n",
      "\n",
      "Транспонированное: \n",
      "[[ 0  3  6  9]\n",
      " [ 1  4  7 10]\n",
      " [ 2  5  8 11]]\n",
      "\n",
      "Умноженное: [[  5  14  23  32]\n",
      " [ 14  50  86 122]\n",
      " [ 23  86 149 212]\n",
      " [ 32 122 212 302]]\n",
      "\n",
      "Размер матрицы: 16\n",
      "\n",
      "Определитель матрицы b = 0.0, поэтому обратную не получится сделать.\n"
     ]
    }
   ],
   "source": [
    "print('Исходное: \\n{}\\n'.format(a := np.arange(0, 12).reshape(4, 3)))\n",
    "print('Транспонированное: \\n{}\\n'.format(At := a.T))\n",
    "print('Умноженное: {}\\n'.format(b := a.dot(At)))\n",
    "print(f'Размер матрицы: {b.size}\\n')\n",
    "print(f'Определитель матрицы b = {np.linalg.det(b)}, поэтому обратную не получится сделать.')"
   ]
  },
  {
   "cell_type": "markdown",
   "id": "f3f2869a",
   "metadata": {},
   "source": [
    "10. Инициализируйте генератор случайных числе с помощью объекта seed, равного 42."
   ]
  },
  {
   "cell_type": "code",
   "execution_count": 83,
   "id": "92b285d9",
   "metadata": {},
   "outputs": [],
   "source": [
    "np.random.seed(42)"
   ]
  },
  {
   "cell_type": "markdown",
   "id": "ec89e1d6",
   "metadata": {},
   "source": [
    "11. Создайте одномерный массив c, составленный из последовательности 16-ти случайных равномерно распределенных целых чисел от 0 до 16 невключительно."
   ]
  },
  {
   "cell_type": "code",
   "execution_count": 92,
   "id": "38e47f75",
   "metadata": {},
   "outputs": [
    {
     "name": "stdout",
     "output_type": "stream",
     "text": [
      "[13  5  5  9  3  5 12 14  1  9 11  1  9 13  3 13]\n"
     ]
    }
   ],
   "source": [
    "print(c := np.random.randint(0, 16, 16))"
   ]
  },
  {
   "cell_type": "markdown",
   "id": "f257d796",
   "metadata": {},
   "source": [
    "12. Поменяйте его форму так, чтобы получилась квадратная матрица C. Получите матрицу D, поэлементно прибавив матрицу B из предыдущего вопроса к матрице C, умноженной на 10. Вычислите определитель, ранг и обратную матрицу D_inv для D."
   ]
  },
  {
   "cell_type": "code",
   "execution_count": 93,
   "id": "49dc9fda",
   "metadata": {},
   "outputs": [
    {
     "name": "stdout",
     "output_type": "stream",
     "text": [
      "[[13  5  5  9]\n",
      " [ 3  5 12 14]\n",
      " [ 1  9 11  1]\n",
      " [ 9 13  3 13]]\n"
     ]
    }
   ],
   "source": [
    "print(C := c.reshape(4, 4))"
   ]
  },
  {
   "cell_type": "code",
   "execution_count": 99,
   "id": "a06c221f",
   "metadata": {},
   "outputs": [
    {
     "name": "stdout",
     "output_type": "stream",
     "text": [
      "[[135  64  73 122]\n",
      " [ 44 100 206 262]\n",
      " [ 33 176 259 222]\n",
      " [122 252 242 432]]\n",
      "\n",
      "Определитель: -441631199.9999996 \n",
      "Ранг: 4 \n",
      "Обратная матрица:\n",
      " [[ 0.00965249 -0.00115572  0.00017453 -0.00211471]\n",
      " [-0.00222937 -0.0133775   0.00596226  0.00567886]\n",
      " [ 0.0028988   0.00436527  0.00540659 -0.00624449]\n",
      " [-0.00304933  0.00568456 -0.00655597  0.00309743]]\n"
     ]
    }
   ],
   "source": [
    "print(D := b + C * 10)\n",
    "print(f'\\nОпределитель: {np.linalg.det(D)} \\nРанг: {np.linalg.matrix_rank(D)} \\nОбратная матрица:\\n {np.linalg.inv(D)}')"
   ]
  },
  {
   "cell_type": "markdown",
   "id": "1e265513",
   "metadata": {},
   "source": []
  }
 ],
 "metadata": {
  "kernelspec": {
   "display_name": "Python 3 (ipykernel)",
   "language": "python",
   "name": "python3"
  },
  "language_info": {
   "codemirror_mode": {
    "name": "ipython",
    "version": 3
   },
   "file_extension": ".py",
   "mimetype": "text/x-python",
   "name": "python",
   "nbconvert_exporter": "python",
   "pygments_lexer": "ipython3",
   "version": "3.9.5"
  }
 },
 "nbformat": 4,
 "nbformat_minor": 5
}
